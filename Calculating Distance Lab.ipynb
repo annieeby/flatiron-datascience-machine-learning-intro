{
 "cells": [
  {
   "cell_type": "code",
   "execution_count": 1,
   "metadata": {},
   "outputs": [],
   "source": [
    "neighbors = [{'name': 'Fred', 'avenue': 4, 'street': 8}, {'name': 'Suzie', 'avenue': 1, 'street': 11}, \n",
    "             {'name': 'Bob', 'avenue': 5, 'street': 8}, {'name': 'Edgar', 'avenue': 6, 'street': 13},\n",
    "             {'name': 'Steven', 'avenue': 3, 'street': 6}, {'name': 'Natalie', 'avenue': 5, 'street': 4}]"
   ]
  },
  {
   "cell_type": "code",
   "execution_count": 2,
   "metadata": {},
   "outputs": [
    {
     "data": {
      "text/plain": [
       "[{'name': 'Fred', 'avenue': 4, 'street': 8},\n",
       " {'name': 'Suzie', 'avenue': 1, 'street': 11},\n",
       " {'name': 'Bob', 'avenue': 5, 'street': 8},\n",
       " {'name': 'Edgar', 'avenue': 6, 'street': 13},\n",
       " {'name': 'Steven', 'avenue': 3, 'street': 6},\n",
       " {'name': 'Natalie', 'avenue': 5, 'street': 4}]"
      ]
     },
     "execution_count": 2,
     "metadata": {},
     "output_type": "execute_result"
    }
   ],
   "source": [
    "neighbors"
   ]
  },
  {
   "cell_type": "code",
   "execution_count": 3,
   "metadata": {},
   "outputs": [],
   "source": [
    "fred = neighbors[0]"
   ]
  },
  {
   "cell_type": "code",
   "execution_count": 4,
   "metadata": {},
   "outputs": [],
   "source": [
    "natalie = neighbors[5]"
   ]
  },
  {
   "cell_type": "code",
   "execution_count": 5,
   "metadata": {},
   "outputs": [
    {
     "data": {
      "text/html": [
       "<script>requirejs.config({paths: { 'plotly': ['https://cdn.plot.ly/plotly-latest.min']},});if(!window.Plotly) {{require(['plotly'],function(plotly) {window.Plotly=plotly;});}}</script>"
      ],
      "text/vnd.plotly.v1+html": [
       "<script>requirejs.config({paths: { 'plotly': ['https://cdn.plot.ly/plotly-latest.min']},});if(!window.Plotly) {{require(['plotly'],function(plotly) {window.Plotly=plotly;});}}</script>"
      ]
     },
     "metadata": {},
     "output_type": "display_data"
    },
    {
     "data": {
      "application/vnd.plotly.v1+json": {
       "data": [
        {
         "mode": "markers",
         "text": [
          "Fred",
          "Suzie",
          "Bob",
          "Edgar",
          "Steven",
          "Natalie"
         ],
         "type": "scatter",
         "uid": "4f215f50-d0ac-11e8-aec2-34159e1c7ef8",
         "x": [
          4,
          1,
          5,
          6,
          3,
          5
         ],
         "y": [
          8,
          11,
          8,
          13,
          6,
          4
         ]
        }
       ],
       "layout": {
        "xaxis": {
         "dtick": 1
        },
        "yaxis": {
         "dtick": 1
        }
       }
      },
      "text/html": [
       "<div id=\"d57b9fe2-8870-4429-b58e-21fb77eab693\" style=\"height: 525px; width: 100%;\" class=\"plotly-graph-div\"></div><script type=\"text/javascript\">require([\"plotly\"], function(Plotly) { window.PLOTLYENV=window.PLOTLYENV || {};window.PLOTLYENV.BASE_URL=\"https://plot.ly\";Plotly.newPlot(\"d57b9fe2-8870-4429-b58e-21fb77eab693\", [{\"mode\": \"markers\", \"text\": [\"Fred\", \"Suzie\", \"Bob\", \"Edgar\", \"Steven\", \"Natalie\"], \"x\": [4, 1, 5, 6, 3, 5], \"y\": [8, 11, 8, 13, 6, 4], \"type\": \"scatter\", \"uid\": \"4fe130d2-d0ac-11e8-971c-34159e1c7ef8\"}], {\"xaxis\": {\"dtick\": 1}, \"yaxis\": {\"dtick\": 1}}, {\"showLink\": true, \"linkText\": \"Export to plot.ly\"})});</script>"
      ],
      "text/vnd.plotly.v1+html": [
       "<div id=\"d57b9fe2-8870-4429-b58e-21fb77eab693\" style=\"height: 525px; width: 100%;\" class=\"plotly-graph-div\"></div><script type=\"text/javascript\">require([\"plotly\"], function(Plotly) { window.PLOTLYENV=window.PLOTLYENV || {};window.PLOTLYENV.BASE_URL=\"https://plot.ly\";Plotly.newPlot(\"d57b9fe2-8870-4429-b58e-21fb77eab693\", [{\"mode\": \"markers\", \"text\": [\"Fred\", \"Suzie\", \"Bob\", \"Edgar\", \"Steven\", \"Natalie\"], \"x\": [4, 1, 5, 6, 3, 5], \"y\": [8, 11, 8, 13, 6, 4], \"type\": \"scatter\", \"uid\": \"4fe130d2-d0ac-11e8-971c-34159e1c7ef8\"}], {\"xaxis\": {\"dtick\": 1}, \"yaxis\": {\"dtick\": 1}}, {\"showLink\": true, \"linkText\": \"Export to plot.ly\"})});</script>"
      ]
     },
     "metadata": {},
     "output_type": "display_data"
    }
   ],
   "source": [
    "import plotly\n",
    "\n",
    "plotly.offline.init_notebook_mode(connected=True)\n",
    "trace0 = dict(x=list(map(lambda neighbor: neighbor['avenue'],neighbors)), \n",
    "              y=list(map(lambda neighbor: neighbor['street'],neighbors)),\n",
    "              text=list(map(lambda neighbor: neighbor['name'],neighbors)),\n",
    "              mode='markers')\n",
    "plotly.offline.iplot(dict(data=[trace0], layout={'xaxis': {'dtick': 1}, 'yaxis': {'dtick': 1}}))"
   ]
  },
  {
   "cell_type": "code",
   "execution_count": 6,
   "metadata": {},
   "outputs": [
    {
     "data": {
      "text/plain": [
       "{'x': [4, 1, 5, 6, 3, 5],\n",
       " 'y': [8, 11, 8, 13, 6, 4],\n",
       " 'text': ['Fred', 'Suzie', 'Bob', 'Edgar', 'Steven', 'Natalie'],\n",
       " 'mode': 'markers'}"
      ]
     },
     "execution_count": 6,
     "metadata": {},
     "output_type": "execute_result"
    }
   ],
   "source": [
    "trace0"
   ]
  },
  {
   "cell_type": "code",
   "execution_count": 24,
   "metadata": {},
   "outputs": [],
   "source": [
    "def street_distance(first_neighbor, second_neighbor):\n",
    "    ydistance = abs(int(first_neighbor['street']) - int(second_neighbor['street']))     #abs() is absolute value\n",
    "    return ydistance"
   ]
  },
  {
   "cell_type": "code",
   "execution_count": 25,
   "metadata": {},
   "outputs": [
    {
     "data": {
      "text/plain": [
       "4"
      ]
     },
     "execution_count": 25,
     "metadata": {},
     "output_type": "execute_result"
    }
   ],
   "source": [
    "street_distance(fred, natalie)"
   ]
  },
  {
   "cell_type": "code",
   "execution_count": 26,
   "metadata": {},
   "outputs": [],
   "source": [
    "def avenue_distance(first_neighbor, second_neighbor):\n",
    "    xdistance = abs(int(first_neighbor['avenue']) - int(second_neighbor['avenue']))\n",
    "    return xdistance"
   ]
  },
  {
   "cell_type": "code",
   "execution_count": 27,
   "metadata": {},
   "outputs": [
    {
     "data": {
      "text/plain": [
       "1"
      ]
     },
     "execution_count": 27,
     "metadata": {},
     "output_type": "execute_result"
    }
   ],
   "source": [
    "avenue_distance(fred, natalie)"
   ]
  },
  {
   "cell_type": "code",
   "execution_count": 37,
   "metadata": {},
   "outputs": [],
   "source": [
    "def distance_between_neighbors_squared(first_neighbor, second_neighbor):\n",
    "    csquared = pow(street_distance(first_neighbor, second_neighbor), 2) + pow(avenue_distance(first_neighbor, second_neighbor), 2)\n",
    "    return csquared"
   ]
  },
  {
   "cell_type": "code",
   "execution_count": 38,
   "metadata": {},
   "outputs": [
    {
     "data": {
      "text/plain": [
       "17"
      ]
     },
     "execution_count": 38,
     "metadata": {},
     "output_type": "execute_result"
    }
   ],
   "source": [
    "distance_between_neighbors_squared(fred, natalie)"
   ]
  },
  {
   "cell_type": "code",
   "execution_count": 43,
   "metadata": {},
   "outputs": [],
   "source": [
    "import math\n",
    "def distance(first_neighbor, second_neighbor):\n",
    "    c = math.sqrt(distance_between_neighbors_squared(first_neighbor, second_neighbor))\n",
    "    return c "
   ]
  },
  {
   "cell_type": "code",
   "execution_count": 44,
   "metadata": {},
   "outputs": [
    {
     "data": {
      "text/plain": [
       "4.123105625617661"
      ]
     },
     "execution_count": 44,
     "metadata": {},
     "output_type": "execute_result"
    }
   ],
   "source": [
    "distance(fred, natalie)"
   ]
  },
  {
   "cell_type": "code",
   "execution_count": 69,
   "metadata": {},
   "outputs": [],
   "source": [
    "import math\n",
    "def distance_with_neighbor(first_neighbor, second_neighbor):\n",
    "    second_neighbor.update({'distance':distance(first_neighbor, second_neighbor)})\n",
    "    return second_neighbor"
   ]
  },
  {
   "cell_type": "code",
   "execution_count": 70,
   "metadata": {},
   "outputs": [
    {
     "data": {
      "text/plain": [
       "{'name': 'Natalie', 'avenue': 5, 'street': 4, 'distance': 4.123105625617661}"
      ]
     },
     "execution_count": 70,
     "metadata": {},
     "output_type": "execute_result"
    }
   ],
   "source": [
    "distance_with_neighbor(fred, natalie)"
   ]
  },
  {
   "cell_type": "code",
   "execution_count": 81,
   "metadata": {},
   "outputs": [],
   "source": [
    "def distance_all(first_neighbor, neighbors):\n",
    "    for neighbor in neighbors:\n",
    "        neighbor.update({'distance':distance(first_neighbor, neighbor)})         #destructively altered list\n",
    "    neighbors.remove(first_neighbor)\n",
    "    return neighbors"
   ]
  },
  {
   "cell_type": "code",
   "execution_count": 82,
   "metadata": {},
   "outputs": [
    {
     "data": {
      "text/plain": [
       "[{'name': 'Suzie', 'avenue': 1, 'street': 11, 'distance': 4.242640687119285},\n",
       " {'name': 'Bob', 'avenue': 5, 'street': 8, 'distance': 1.0},\n",
       " {'name': 'Edgar', 'avenue': 6, 'street': 13, 'distance': 5.385164807134504},\n",
       " {'name': 'Steven', 'avenue': 3, 'street': 6, 'distance': 2.23606797749979},\n",
       " {'name': 'Natalie', 'avenue': 5, 'street': 4, 'distance': 4.123105625617661}]"
      ]
     },
     "execution_count": 82,
     "metadata": {},
     "output_type": "execute_result"
    }
   ],
   "source": [
    "distance_all(fred, neighbors)"
   ]
  },
  {
   "cell_type": "code",
   "execution_count": 97,
   "metadata": {},
   "outputs": [],
   "source": [
    "def nearest_neighbors(first_neighbor, neighbors, number = None):\n",
    "    nearest = sorted(neighbors, key=lambda k: k['distance'])            #https://stackoverflow.com/questions/72899/how-do-i-sort-a-list-of-dictionaries-by-a-value-of-the-dictionary-in-python\n",
    "    return nearest[0:number]"
   ]
  },
  {
   "cell_type": "code",
   "execution_count": 98,
   "metadata": {},
   "outputs": [
    {
     "data": {
      "text/plain": [
       "[{'name': 'Bob', 'avenue': 5, 'street': 8, 'distance': 1.0},\n",
       " {'name': 'Steven', 'avenue': 3, 'street': 6, 'distance': 2.23606797749979},\n",
       " {'name': 'Natalie', 'avenue': 5, 'street': 4, 'distance': 4.123105625617661},\n",
       " {'name': 'Suzie', 'avenue': 1, 'street': 11, 'distance': 4.242640687119285},\n",
       " {'name': 'Edgar', 'avenue': 6, 'street': 13, 'distance': 5.385164807134504}]"
      ]
     },
     "execution_count": 98,
     "metadata": {},
     "output_type": "execute_result"
    }
   ],
   "source": [
    "nearest_neighbors(fred, neighbors, 5)"
   ]
  },
  {
   "cell_type": "code",
   "execution_count": 99,
   "metadata": {},
   "outputs": [
    {
     "data": {
      "text/plain": [
       "[{'name': 'Bob', 'avenue': 5, 'street': 8, 'distance': 1.0},\n",
       " {'name': 'Steven', 'avenue': 3, 'street': 6, 'distance': 2.23606797749979}]"
      ]
     },
     "execution_count": 99,
     "metadata": {},
     "output_type": "execute_result"
    }
   ],
   "source": [
    "nearest_neighbors(fred, neighbors, 2)"
   ]
  }
 ],
 "metadata": {
  "kernelspec": {
   "display_name": "Python 3",
   "language": "python",
   "name": "python3"
  },
  "language_info": {
   "codemirror_mode": {
    "name": "ipython",
    "version": 3
   },
   "file_extension": ".py",
   "mimetype": "text/x-python",
   "name": "python",
   "nbconvert_exporter": "python",
   "pygments_lexer": "ipython3",
   "version": "3.6.5"
  }
 },
 "nbformat": 4,
 "nbformat_minor": 2
}
